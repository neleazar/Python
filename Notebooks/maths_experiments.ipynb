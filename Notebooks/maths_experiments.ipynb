{
 "cells": [
  {
   "cell_type": "code",
   "execution_count": 9,
   "metadata": {},
   "outputs": [
    {
     "name": "stdout",
     "output_type": "stream",
     "text": [
      "[array([[0, 0, 0],\n",
      "       [0, 0, 0]]), array([[0, 0, 0],\n",
      "       [0, 0, 1]]), array([[0, 0, 0],\n",
      "       [0, 1, 0]]), array([[0, 0, 0],\n",
      "       [0, 1, 1]]), array([[0, 0, 0],\n",
      "       [1, 0, 0]])]\n"
     ]
    }
   ],
   "source": [
    "import numpy as np\n",
    "from itertools import product\n",
    "\n",
    "n = 2  # Dimension of V\n",
    "m = 3  # Dimension of W\n",
    "\n",
    "# Generate all possible mappings\n",
    "all_mappings = list(product([0, 1], repeat=n*m))\n",
    "\n",
    "# Reshape each mapping into an n x m matrix\n",
    "linear_maps = [np.array(mapping).reshape(n, m) for mapping in all_mappings]\n",
    "\n",
    "# Example: Display the first five linear map\n",
    "print(linear_maps[:5])"
   ]
  },
  {
   "cell_type": "code",
   "execution_count": 16,
   "metadata": {},
   "outputs": [],
   "source": [
    "class F1VectorSpace:\n",
    "    def __init__(self, elements):\n",
    "        \"\"\"\n",
    "        Initialize the F1 vector space with a set of elements.\n",
    "        Ensure that the base element 0 is included.\n",
    "        \"\"\"\n",
    "        self.elements = set(elements)\n",
    "        self.elements.add(0)  # Ensure 0 is included as the base element\n",
    "\n",
    "    def __repr__(self):\n",
    "        return f\"F1VectorSpace({self.elements})\"\n",
    "\n",
    "    def subset(self, subset_elements):\n",
    "        \"\"\"\n",
    "        Create a subset of the vector space.\n",
    "        Ensure that the base element 0 is included in the subset.\n",
    "        \"\"\"\n",
    "        subset = set(subset_elements)\n",
    "        subset.add(0)  # Ensure 0 is included in the subset\n",
    "        if not subset.issubset(self.elements):\n",
    "            raise ValueError(\"Subset contains elements not in the original vector space.\")\n",
    "        return F1VectorSpace(subset)\n",
    "\n",
    "    def direct_sum(self, other):\n",
    "        \"\"\"\n",
    "        Compute the direct sum (disjoint union with 0 as common) of two F1 vector spaces.\n",
    "        \"\"\"\n",
    "        if not isinstance(other, F1VectorSpace):\n",
    "            raise TypeError(\"Direct sum is only defined between two F1VectorSpace instances.\")\n",
    "        \n",
    "        # Combine elements, ensuring 0 is common\n",
    "        combined_elements = (self.elements | other.elements)\n",
    "        return F1VectorSpace(combined_elements)\n"
   ]
  },
  {
   "cell_type": "code",
   "execution_count": 17,
   "metadata": {},
   "outputs": [
    {
     "name": "stdout",
     "output_type": "stream",
     "text": [
      "F1VectorSpace({0, 1, 2})\n"
     ]
    }
   ],
   "source": [
    "# Initialize with elements 1 and 2; 0 is automatically included\n",
    "V = F1VectorSpace([1, 2])\n",
    "print(V)  # Output: F1VectorSpace({0, 1, 2})\n"
   ]
  },
  {
   "cell_type": "code",
   "execution_count": 12,
   "metadata": {},
   "outputs": [
    {
     "name": "stdout",
     "output_type": "stream",
     "text": [
      "F1VectorSpace({0, 1})\n"
     ]
    }
   ],
   "source": [
    "# Create a subset with element 1; 0 is automatically included\n",
    "U = V.subset([1])\n",
    "print(U)  # Output: F1VectorSpace({0, 1})\n"
   ]
  },
  {
   "cell_type": "code",
   "execution_count": 13,
   "metadata": {},
   "outputs": [
    {
     "name": "stdout",
     "output_type": "stream",
     "text": [
      "F1VectorSpace({0, 1, 2, 3, 4})\n"
     ]
    }
   ],
   "source": [
    "# Initialize another F₁ vector space\n",
    "W = F1VectorSpace([3, 4])\n",
    "\n",
    "# Compute the direct sum of V and W\n",
    "V_plus_W = V.direct_sum(W)\n",
    "print(V_plus_W)  # Output: F1VectorSpace({0, 1, 2, 3, 4})\n"
   ]
  }
 ],
 "metadata": {
  "kernelspec": {
   "display_name": "base",
   "language": "python",
   "name": "python3"
  },
  "language_info": {
   "codemirror_mode": {
    "name": "ipython",
    "version": 3
   },
   "file_extension": ".py",
   "mimetype": "text/x-python",
   "name": "python",
   "nbconvert_exporter": "python",
   "pygments_lexer": "ipython3",
   "version": "3.9.19"
  }
 },
 "nbformat": 4,
 "nbformat_minor": 2
}
