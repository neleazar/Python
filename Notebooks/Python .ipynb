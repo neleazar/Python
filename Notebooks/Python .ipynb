{
  "cells": [
    {
      "cell_type": "markdown",
      "metadata": {
        "colab_type": "text",
        "id": "r4JmHu9hhCHZ"
      },
      "source": [
        "# LISTS\n",
        "\n",
        "## A list is a value that contains multiple values in an ordered sequence."
      ]
    },
    {
      "cell_type": "markdown",
      "metadata": {
        "colab_type": "text",
        "id": "oxh_G1MWi_MY"
      },
      "source": [
        "## Using indexes to access values in list"
      ]
    },
    {
      "cell_type": "code",
      "execution_count": 2,
      "metadata": {
        "colab": {},
        "colab_type": "code",
        "id": "sOifcJHAi2wY"
      },
      "outputs": [
        {
          "data": {
            "text/plain": [
              "0"
            ]
          },
          "execution_count": 2,
          "metadata": {},
          "output_type": "execute_result"
        }
      ],
      "source": [
        "num_list = [0, 1, 2, 2, 3, 5, 6, 13, 21, 34]\n",
        "num_list[0]"
      ]
    },
    {
      "cell_type": "code",
      "execution_count": 3,
      "metadata": {
        "colab": {},
        "colab_type": "code",
        "id": "880XagOlti80"
      },
      "outputs": [
        {
          "data": {
            "text/plain": [
              "'cherry'"
            ]
          },
          "execution_count": 3,
          "metadata": {},
          "output_type": "execute_result"
        }
      ],
      "source": [
        "fruits = ['apple', 'cherry', 'banana', 'Lemon', 'Grape']\n",
        "fruits[1]"
      ]
    },
    {
      "cell_type": "code",
      "execution_count": 4,
      "metadata": {
        "colab": {},
        "colab_type": "code",
        "id": "zKl0a0D7to1I"
      },
      "outputs": [
        {
          "data": {
            "text/plain": [
              "[[1, 2, 3], [4, 5, 6], [7, 8, 9]]"
            ]
          },
          "execution_count": 4,
          "metadata": {},
          "output_type": "execute_result"
        }
      ],
      "source": [
        "# lists in list\n",
        "\n",
        "num_list_2 = [[1, 2, 3], [4, 5, 6], [7, 8, 9]]\n",
        "num_list_2"
      ]
    },
    {
      "cell_type": "code",
      "execution_count": 5,
      "metadata": {
        "colab": {},
        "colab_type": "code",
        "id": "i09zmPidt4ao"
      },
      "outputs": [
        {
          "data": {
            "text/plain": [
              "[4, 5, 6]"
            ]
          },
          "execution_count": 5,
          "metadata": {},
          "output_type": "execute_result"
        }
      ],
      "source": [
        "num_list_2[1]"
      ]
    },
    {
      "cell_type": "code",
      "execution_count": 6,
      "metadata": {
        "colab": {},
        "colab_type": "code",
        "id": "NYN-0DViuEy7"
      },
      "outputs": [
        {
          "data": {
            "text/plain": [
              "(7, 9)"
            ]
          },
          "execution_count": 6,
          "metadata": {},
          "output_type": "execute_result"
        }
      ],
      "source": [
        "num_list_2[2][0], num_list_2[2][2]"
      ]
    },
    {
      "cell_type": "markdown",
      "metadata": {
        "colab_type": "text",
        "id": "QLNO3ehYkPag"
      },
      "source": [
        "## Negative Indexes"
      ]
    },
    {
      "cell_type": "code",
      "execution_count": 7,
      "metadata": {
        "colab": {},
        "colab_type": "code",
        "id": "pPDhBlyBkS9E"
      },
      "outputs": [
        {
          "data": {
            "text/plain": [
              "34"
            ]
          },
          "execution_count": 7,
          "metadata": {},
          "output_type": "execute_result"
        }
      ],
      "source": [
        "num_list = [0, 1, 2, 2, 3, 5, 6, 13, 21, 34]\n",
        "\n",
        "num_list[-1]"
      ]
    },
    {
      "cell_type": "code",
      "execution_count": 8,
      "metadata": {
        "colab": {},
        "colab_type": "code",
        "id": "dOD7SgcZuXdx"
      },
      "outputs": [
        {
          "data": {
            "text/plain": [
              "21"
            ]
          },
          "execution_count": 8,
          "metadata": {},
          "output_type": "execute_result"
        }
      ],
      "source": [
        "num_list[-2]"
      ]
    },
    {
      "cell_type": "markdown",
      "metadata": {
        "colab_type": "text",
        "id": "azasVVDskZZJ"
      },
      "source": [
        "## Getting Sublists with Slices"
      ]
    },
    {
      "cell_type": "code",
      "execution_count": 9,
      "metadata": {
        "colab": {},
        "colab_type": "code",
        "id": "rUmWZKG-kaMk"
      },
      "outputs": [
        {
          "data": {
            "text/plain": [
              "[0, 1, 2]"
            ]
          },
          "execution_count": 9,
          "metadata": {},
          "output_type": "execute_result"
        }
      ],
      "source": [
        "num_list[0:3]"
      ]
    },
    {
      "cell_type": "code",
      "execution_count": 10,
      "metadata": {
        "colab": {},
        "colab_type": "code",
        "id": "DgJpvtrJult0"
      },
      "outputs": [
        {
          "data": {
            "text/plain": [
              "[2, 3, 5, 6, 13, 21, 34]"
            ]
          },
          "execution_count": 10,
          "metadata": {},
          "output_type": "execute_result"
        }
      ],
      "source": [
        "num_list[3:]"
      ]
    },
    {
      "cell_type": "code",
      "execution_count": 11,
      "metadata": {
        "colab": {},
        "colab_type": "code",
        "id": "QWJkJH1Huq8j"
      },
      "outputs": [
        {
          "data": {
            "text/plain": [
              "[0, 1, 2, 2, 3, 5, 6, 13, 21, 34]"
            ]
          },
          "execution_count": 11,
          "metadata": {},
          "output_type": "execute_result"
        }
      ],
      "source": [
        "num_list[:]"
      ]
    },
    {
      "cell_type": "code",
      "execution_count": 12,
      "metadata": {
        "colab": {},
        "colab_type": "code",
        "id": "krB2R6czuxcg"
      },
      "outputs": [
        {
          "data": {
            "text/plain": [
              "[0, 2, 3, 6]"
            ]
          },
          "execution_count": 12,
          "metadata": {},
          "output_type": "execute_result"
        }
      ],
      "source": [
        "sub_list = num_list[0:7:2]\n",
        "sub_list"
      ]
    },
    {
      "cell_type": "code",
      "execution_count": 13,
      "metadata": {
        "colab": {},
        "colab_type": "code",
        "id": "DJm0eN6Au9gt"
      },
      "outputs": [
        {
          "data": {
            "text/plain": [
              "[0, 1, 2, 2, 3, 5, 6, 13, 21, 34]"
            ]
          },
          "execution_count": 13,
          "metadata": {},
          "output_type": "execute_result"
        }
      ],
      "source": [
        "num_list"
      ]
    },
    {
      "cell_type": "code",
      "execution_count": 14,
      "metadata": {
        "colab": {},
        "colab_type": "code",
        "id": "ehTkb0AVrgz9"
      },
      "outputs": [
        {
          "data": {
            "text/plain": [
              "[34, 21, 13, 6, 5, 3, 2, 2, 1, 0]"
            ]
          },
          "execution_count": 14,
          "metadata": {},
          "output_type": "execute_result"
        }
      ],
      "source": [
        "num_list[::-1]"
      ]
    },
    {
      "cell_type": "markdown",
      "metadata": {
        "colab_type": "text",
        "id": "yVvYa4Q5ka2D"
      },
      "source": [
        "## Length of list function _len()_"
      ]
    },
    {
      "cell_type": "code",
      "execution_count": 15,
      "metadata": {
        "colab": {},
        "colab_type": "code",
        "id": "qPHcQhWikhO6"
      },
      "outputs": [
        {
          "data": {
            "text/plain": [
              "10"
            ]
          },
          "execution_count": 15,
          "metadata": {},
          "output_type": "execute_result"
        }
      ],
      "source": [
        "len(num_list)"
      ]
    },
    {
      "cell_type": "code",
      "execution_count": 16,
      "metadata": {
        "colab": {},
        "colab_type": "code",
        "id": "SRo0pRtPwLmj"
      },
      "outputs": [
        {
          "data": {
            "text/plain": [
              "5"
            ]
          },
          "execution_count": 16,
          "metadata": {},
          "output_type": "execute_result"
        }
      ],
      "source": [
        "len(fruits)"
      ]
    },
    {
      "cell_type": "markdown",
      "metadata": {
        "colab_type": "text",
        "id": "YzbgMsg9kpS7"
      },
      "source": [
        "## Update list values with indexes"
      ]
    },
    {
      "cell_type": "code",
      "execution_count": 17,
      "metadata": {
        "colab": {},
        "colab_type": "code",
        "id": "gcaZdoSvkslu"
      },
      "outputs": [],
      "source": [
        "fruits = ['apple', 'cherry', 'banana', 'Lemon', 'Grape']\n",
        "fruits[2] = 'orange'"
      ]
    },
    {
      "cell_type": "code",
      "execution_count": 18,
      "metadata": {
        "colab": {},
        "colab_type": "code",
        "id": "ePgtC7iOvMIt"
      },
      "outputs": [
        {
          "data": {
            "text/plain": [
              "['apple', 'cherry', 'orange', 'Lemon', 'Grape']"
            ]
          },
          "execution_count": 18,
          "metadata": {},
          "output_type": "execute_result"
        }
      ],
      "source": [
        "fruits"
      ]
    },
    {
      "cell_type": "code",
      "execution_count": 19,
      "metadata": {
        "colab": {},
        "colab_type": "code",
        "id": "_TsogO9FvMLJ"
      },
      "outputs": [
        {
          "data": {
            "text/plain": [
              "[0, 1, 2]"
            ]
          },
          "execution_count": 19,
          "metadata": {},
          "output_type": "execute_result"
        }
      ],
      "source": [
        "sub_list = num_list[0:3]\n",
        "sub_list"
      ]
    },
    {
      "cell_type": "code",
      "execution_count": 20,
      "metadata": {
        "colab": {},
        "colab_type": "code",
        "id": "ZKN2vhdRvS4R"
      },
      "outputs": [
        {
          "data": {
            "text/plain": [
              "[0, 10, 2]"
            ]
          },
          "execution_count": 20,
          "metadata": {},
          "output_type": "execute_result"
        }
      ],
      "source": [
        "sub_list[1] = 10\n",
        "sub_list"
      ]
    },
    {
      "cell_type": "code",
      "execution_count": 21,
      "metadata": {
        "colab": {},
        "colab_type": "code",
        "id": "rXiX5dqhvMN5"
      },
      "outputs": [
        {
          "data": {
            "text/plain": [
              "[0, 1, 2, 2, 3, 5, 6, 13, 21, 34]"
            ]
          },
          "execution_count": 21,
          "metadata": {},
          "output_type": "execute_result"
        }
      ],
      "source": [
        "num_list"
      ]
    },
    {
      "cell_type": "markdown",
      "metadata": {
        "colab_type": "text",
        "id": "fz8tDYuxwRmV"
      },
      "source": [
        "## Append to list"
      ]
    },
    {
      "cell_type": "code",
      "execution_count": 22,
      "metadata": {
        "colab": {},
        "colab_type": "code",
        "id": "b5CNFOysk0T-"
      },
      "outputs": [
        {
          "data": {
            "text/plain": [
              "['apple', 'cherry', 'orange', 'Lemon', 'Grape']"
            ]
          },
          "execution_count": 22,
          "metadata": {},
          "output_type": "execute_result"
        }
      ],
      "source": [
        "fruits"
      ]
    },
    {
      "cell_type": "code",
      "execution_count": 23,
      "metadata": {
        "colab": {},
        "colab_type": "code",
        "id": "PtRysjrhwW5W"
      },
      "outputs": [
        {
          "data": {
            "text/plain": [
              "['apple', 'cherry', 'orange', 'Lemon', 'Grape', 'banana', 'peach']"
            ]
          },
          "execution_count": 23,
          "metadata": {},
          "output_type": "execute_result"
        }
      ],
      "source": [
        "fruits.append('banana')\n",
        "fruits.append('peach')\n",
        "fruits"
      ]
    },
    {
      "cell_type": "markdown",
      "metadata": {
        "colab_type": "text",
        "id": "8Q01fdEMwv7h"
      },
      "source": [
        "## List Concatenation and List Replication\n"
      ]
    },
    {
      "cell_type": "code",
      "execution_count": 24,
      "metadata": {
        "colab": {},
        "colab_type": "code",
        "id": "DGgCEKt-wxey"
      },
      "outputs": [
        {
          "data": {
            "text/plain": [
              "['apple',\n",
              " 'cherry',\n",
              " 'orange',\n",
              " 'Lemon',\n",
              " 'Grape',\n",
              " 'banana',\n",
              " 'peach',\n",
              " 0,\n",
              " 1,\n",
              " 2,\n",
              " 2,\n",
              " 3,\n",
              " 5,\n",
              " 6,\n",
              " 13,\n",
              " 21,\n",
              " 34]"
            ]
          },
          "execution_count": 24,
          "metadata": {},
          "output_type": "execute_result"
        }
      ],
      "source": [
        "fruits_nums = fruits + num_list\n",
        "fruits_nums"
      ]
    },
    {
      "cell_type": "code",
      "execution_count": 25,
      "metadata": {
        "colab": {},
        "colab_type": "code",
        "id": "ZkEeSzaowxjz"
      },
      "outputs": [
        {
          "data": {
            "text/plain": [
              "['a', 'b', 'c']"
            ]
          },
          "execution_count": 25,
          "metadata": {},
          "output_type": "execute_result"
        }
      ],
      "source": [
        "short_list = ['a', 'b', 'c']\n",
        "short_list"
      ]
    },
    {
      "cell_type": "code",
      "execution_count": 26,
      "metadata": {
        "colab": {},
        "colab_type": "code",
        "id": "lZixEpJGyQSV"
      },
      "outputs": [
        {
          "data": {
            "text/plain": [
              "['a', 'b', 'c', 'a', 'b', 'c', 'a', 'b', 'c']"
            ]
          },
          "execution_count": 26,
          "metadata": {},
          "output_type": "execute_result"
        }
      ],
      "source": [
        "short_list * 3"
      ]
    },
    {
      "cell_type": "markdown",
      "metadata": {
        "colab_type": "text",
        "id": "udaSrYlbk67z"
      },
      "source": [
        "## Insert to list"
      ]
    },
    {
      "cell_type": "code",
      "execution_count": 27,
      "metadata": {
        "colab": {},
        "colab_type": "code",
        "id": "PAkSsLUqyykM"
      },
      "outputs": [
        {
          "data": {
            "text/plain": [
              "['avocado', 'apple', 'cherry', 'orange', 'Lemon', 'Grape', 'banana', 'peach']"
            ]
          },
          "execution_count": 27,
          "metadata": {},
          "output_type": "execute_result"
        }
      ],
      "source": [
        "fruits.insert(0, 'avocado')\n",
        "fruits"
      ]
    },
    {
      "cell_type": "code",
      "execution_count": 28,
      "metadata": {
        "colab": {},
        "colab_type": "code",
        "id": "c5CfivTe0v_B"
      },
      "outputs": [],
      "source": [
        "fruits.insert(3, 'pear')"
      ]
    },
    {
      "cell_type": "code",
      "execution_count": 29,
      "metadata": {
        "colab": {},
        "colab_type": "code",
        "id": "83pC4eRQ084z"
      },
      "outputs": [
        {
          "data": {
            "text/plain": [
              "['avocado',\n",
              " 'apple',\n",
              " 'cherry',\n",
              " 'pear',\n",
              " 'orange',\n",
              " 'Lemon',\n",
              " 'Grape',\n",
              " 'banana',\n",
              " 'peach']"
            ]
          },
          "execution_count": 29,
          "metadata": {},
          "output_type": "execute_result"
        }
      ],
      "source": [
        "fruits"
      ]
    },
    {
      "cell_type": "markdown",
      "metadata": {
        "colab_type": "text",
        "id": "-v5iPpC74o0z"
      },
      "source": [
        "## Removing Values from Lists with _del_ Statements\n",
        "_del_ statement removes the value at given index"
      ]
    },
    {
      "cell_type": "code",
      "execution_count": 30,
      "metadata": {
        "colab": {},
        "colab_type": "code",
        "id": "SLGavPPg4yf0"
      },
      "outputs": [
        {
          "data": {
            "text/plain": [
              "['avocado',\n",
              " 'apple',\n",
              " 'cherry',\n",
              " 'pear',\n",
              " 'orange',\n",
              " 'Lemon',\n",
              " 'Grape',\n",
              " 'banana',\n",
              " 'peach']"
            ]
          },
          "execution_count": 30,
          "metadata": {},
          "output_type": "execute_result"
        }
      ],
      "source": [
        "fruits"
      ]
    },
    {
      "cell_type": "code",
      "execution_count": 31,
      "metadata": {
        "colab": {},
        "colab_type": "code",
        "id": "5CesmZpv4ykU"
      },
      "outputs": [
        {
          "data": {
            "text/plain": [
              "['avocado', 'apple', 'cherry', 'orange', 'Lemon', 'Grape', 'banana', 'peach']"
            ]
          },
          "execution_count": 31,
          "metadata": {},
          "output_type": "execute_result"
        }
      ],
      "source": [
        "del fruits[3]  # remove element at index 3\n",
        "fruits"
      ]
    },
    {
      "cell_type": "markdown",
      "metadata": {
        "colab_type": "text",
        "id": "XRXCiTf15F_Y"
      },
      "source": [
        "## Removing Values from Lists with _remove_ function\n",
        "Function _remove()_ removes the first matching value from the list"
      ]
    },
    {
      "cell_type": "code",
      "execution_count": 32,
      "metadata": {
        "colab": {},
        "colab_type": "code",
        "id": "79Fd2Ho_5L-m"
      },
      "outputs": [
        {
          "data": {
            "text/plain": [
              "[3, 2, 5, 7, 9, 3, 5]"
            ]
          },
          "execution_count": 32,
          "metadata": {},
          "output_type": "execute_result"
        }
      ],
      "source": [
        "numbers = [3, 2, 5, 7, 9, 3, 5]\n",
        "numbers"
      ]
    },
    {
      "cell_type": "code",
      "execution_count": 33,
      "metadata": {
        "colab": {},
        "colab_type": "code",
        "id": "eHX7e5zH5XjB"
      },
      "outputs": [
        {
          "data": {
            "text/plain": [
              "[3, 2, 7, 9, 3, 5]"
            ]
          },
          "execution_count": 33,
          "metadata": {},
          "output_type": "execute_result"
        }
      ],
      "source": [
        "numbers.remove(5)   # remove first element with value = 5\n",
        "numbers"
      ]
    },
    {
      "cell_type": "code",
      "execution_count": 34,
      "metadata": {
        "colab": {},
        "colab_type": "code",
        "id": "oc8bFQAB5pna"
      },
      "outputs": [
        {
          "data": {
            "text/plain": [
              "['avocado',\n",
              " 'apple',\n",
              " 'cherry',\n",
              " 'orange',\n",
              " 'Lemon',\n",
              " 'Grape',\n",
              " 'banana',\n",
              " 'peach',\n",
              " 'cherry',\n",
              " 'orange']"
            ]
          },
          "execution_count": 34,
          "metadata": {},
          "output_type": "execute_result"
        }
      ],
      "source": [
        "fruits.append('cherry')\n",
        "fruits.append('orange')\n",
        "fruits"
      ]
    },
    {
      "cell_type": "code",
      "execution_count": 35,
      "metadata": {
        "colab": {},
        "colab_type": "code",
        "id": "KE33UJ6f5rti"
      },
      "outputs": [
        {
          "data": {
            "text/plain": [
              "['avocado',\n",
              " 'apple',\n",
              " 'orange',\n",
              " 'Lemon',\n",
              " 'Grape',\n",
              " 'banana',\n",
              " 'peach',\n",
              " 'cherry',\n",
              " 'orange']"
            ]
          },
          "execution_count": 35,
          "metadata": {},
          "output_type": "execute_result"
        }
      ],
      "source": [
        "fruits.remove('cherry')\n",
        "fruits"
      ]
    },
    {
      "cell_type": "markdown",
      "metadata": {
        "colab_type": "text",
        "id": "u6SLBZgp57X3"
      },
      "source": [
        "## Removing values from Lists with _pop_ function\n",
        "function _pop()_ removes value at given index and returns it\n",
        "\n",
        "if no index is given, last value will be removed and returned"
      ]
    },
    {
      "cell_type": "code",
      "execution_count": 36,
      "metadata": {
        "colab": {},
        "colab_type": "code",
        "id": "a2Gj0pXp6DrM"
      },
      "outputs": [
        {
          "name": "stdout",
          "output_type": "stream",
          "text": [
            "fruits:  ['avocado', 'apple', 'orange', 'Lemon', 'Grape', 'banana', 'peach', 'cherry', 'orange']\n",
            "a:  orange\n",
            "fruits:  ['avocado', 'apple', 'orange', 'Lemon', 'Grape', 'banana', 'peach', 'cherry']\n"
          ]
        }
      ],
      "source": [
        "print('fruits: ', fruits)\n",
        "a = fruits.pop()     # last value if no index is given\n",
        "print('a: ', a)\n",
        "print('fruits: ', fruits)"
      ]
    },
    {
      "cell_type": "code",
      "execution_count": 37,
      "metadata": {
        "colab": {},
        "colab_type": "code",
        "id": "UUAgPS-c6ECl"
      },
      "outputs": [
        {
          "name": "stdout",
          "output_type": "stream",
          "text": [
            "b:  cherry\n",
            "fruits:  ['avocado', 'apple', 'orange', 'Lemon', 'Grape', 'banana', 'peach']\n"
          ]
        }
      ],
      "source": [
        "b = fruits.pop()\n",
        "print('b: ', b)\n",
        "print('fruits: ', fruits)"
      ]
    },
    {
      "cell_type": "code",
      "execution_count": 38,
      "metadata": {
        "colab": {},
        "colab_type": "code",
        "id": "2TA1bn8W6gOs"
      },
      "outputs": [
        {
          "name": "stdout",
          "output_type": "stream",
          "text": [
            "[3, 2, 7, 9, 3, 5]\n",
            "popped value at index 3:  9\n",
            "[3, 2, 7, 3, 5]\n"
          ]
        }
      ],
      "source": [
        "print(numbers)\n",
        "n = numbers.pop(3)\n",
        "print('popped value at index 3: ', n)\n",
        "print(numbers)"
      ]
    },
    {
      "cell_type": "markdown",
      "metadata": {
        "colab_type": "text",
        "id": "kO45fRoh5iFW"
      },
      "source": [
        "## For loop with list\n"
      ]
    },
    {
      "cell_type": "code",
      "execution_count": 39,
      "metadata": {
        "colab": {},
        "colab_type": "code",
        "id": "P7Rovo_25n-C"
      },
      "outputs": [
        {
          "name": "stdout",
          "output_type": "stream",
          "text": [
            "87\n"
          ]
        }
      ],
      "source": [
        "num_list = [0, 1, 2, 2, 3, 5, 6, 13, 21, 34]\n",
        "\n",
        "# sum of the numbers in the list\n",
        "\n",
        "sum = 0\n",
        "for item in num_list:\n",
        "    sum += item\n",
        "    \n",
        "print(sum)"
      ]
    },
    {
      "cell_type": "code",
      "execution_count": 40,
      "metadata": {
        "colab": {},
        "colab_type": "code",
        "id": "pxcMxPXA50Uf"
      },
      "outputs": [
        {
          "name": "stdout",
          "output_type": "stream",
          "text": [
            "87\n"
          ]
        }
      ],
      "source": [
        "# or use index\n",
        "sum = 0\n",
        "\n",
        "for i in range(len(num_list)):\n",
        "    sum = sum + num_list[i]\n",
        "    \n",
        "print(sum)"
      ]
    },
    {
      "cell_type": "code",
      "execution_count": 41,
      "metadata": {
        "colab": {},
        "colab_type": "code",
        "id": "52RLHprj5_b5"
      },
      "outputs": [
        {
          "name": "stdout",
          "output_type": "stream",
          "text": [
            "False\n",
            "True\n",
            "True\n"
          ]
        }
      ],
      "source": [
        "## The in and not in Operators\n",
        "print(31 in num_list)\n",
        "print(13 in num_list)\n",
        "print('hello' not in num_list)"
      ]
    },
    {
      "cell_type": "markdown",
      "metadata": {
        "colab_type": "text",
        "id": "mt7ZrmZm6czz"
      },
      "source": [
        "## Sorting the Values in a List with the sort() Method"
      ]
    },
    {
      "cell_type": "code",
      "execution_count": 42,
      "metadata": {
        "colab": {},
        "colab_type": "code",
        "id": "uJSR-D4O8dWY"
      },
      "outputs": [
        {
          "data": {
            "text/plain": [
              "[100, -23, 4.56, 290, 33, 7]"
            ]
          },
          "execution_count": 42,
          "metadata": {},
          "output_type": "execute_result"
        }
      ],
      "source": [
        "numbers = [100, -23, 4.56, 290, 33, 7]\n",
        "numbers"
      ]
    },
    {
      "cell_type": "code",
      "execution_count": 43,
      "metadata": {
        "colab": {},
        "colab_type": "code",
        "id": "1BNX3dBt8l6Z"
      },
      "outputs": [
        {
          "data": {
            "text/plain": [
              "[-23, 4.56, 7, 33, 100, 290]"
            ]
          },
          "execution_count": 43,
          "metadata": {},
          "output_type": "execute_result"
        }
      ],
      "source": [
        "numbers.sort()\n",
        "numbers"
      ]
    },
    {
      "cell_type": "code",
      "execution_count": 44,
      "metadata": {
        "colab": {},
        "colab_type": "code",
        "id": "aeRk7J3D8vBU"
      },
      "outputs": [
        {
          "data": {
            "text/plain": [
              "[290, 100, 33, 7, 4.56, -23]"
            ]
          },
          "execution_count": 44,
          "metadata": {},
          "output_type": "execute_result"
        }
      ],
      "source": [
        "numbers.sort(reverse=True)\n",
        "numbers"
      ]
    },
    {
      "cell_type": "code",
      "execution_count": 45,
      "metadata": {
        "colab": {},
        "colab_type": "code",
        "id": "4j5rBvXv88B0"
      },
      "outputs": [
        {
          "data": {
            "text/plain": [
              "['peach', 'orange', 'banana', 'avocado', 'apple', 'Lemon', 'Grape']"
            ]
          },
          "execution_count": 45,
          "metadata": {},
          "output_type": "execute_result"
        }
      ],
      "source": [
        "fruits.sort(reverse=True)\n",
        "fruits"
      ]
    },
    {
      "cell_type": "code",
      "execution_count": 46,
      "metadata": {
        "colab": {},
        "colab_type": "code",
        "id": "NqXZQdVQ82aI"
      },
      "outputs": [
        {
          "ename": "TypeError",
          "evalue": "'<' not supported between instances of 'int' and 'str'",
          "output_type": "error",
          "traceback": [
            "\u001b[1;31m---------------------------------------------------------------------------\u001b[0m",
            "\u001b[1;31mTypeError\u001b[0m                                 Traceback (most recent call last)",
            "Cell \u001b[1;32mIn[46], line 3\u001b[0m\n\u001b[0;32m      1\u001b[0m \u001b[38;5;66;03m# doesn't work\u001b[39;00m\n\u001b[0;32m      2\u001b[0m not_sortable \u001b[38;5;241m=\u001b[39m [\u001b[38;5;124m'\u001b[39m\u001b[38;5;124mapple\u001b[39m\u001b[38;5;124m'\u001b[39m, \u001b[38;5;241m1\u001b[39m, \u001b[38;5;241m3.14\u001b[39m, \u001b[38;5;124m'\u001b[39m\u001b[38;5;124mcat\u001b[39m\u001b[38;5;124m'\u001b[39m]\n\u001b[1;32m----> 3\u001b[0m \u001b[43mnot_sortable\u001b[49m\u001b[38;5;241;43m.\u001b[39;49m\u001b[43msort\u001b[49m\u001b[43m(\u001b[49m\u001b[43m)\u001b[49m\n",
            "\u001b[1;31mTypeError\u001b[0m: '<' not supported between instances of 'int' and 'str'"
          ]
        }
      ],
      "source": [
        "# doesn't work\n",
        "not_sortable = ['apple', 1, 3.14, 'cat']\n",
        "not_sortable.sort()"
      ]
    },
    {
      "cell_type": "markdown",
      "metadata": {
        "colab_type": "text",
        "id": "_Ps20hzX8Ohc"
      },
      "source": [
        "## List-like type: Tuples\n",
        "* tuples support many operations like lists: indexing, slicing, len(), in and not operators, etc.  \n",
        "* tuples are typed with parentheses (), not square brackets []\n",
        "* tuples are IMMUTABLE, while lists are MUTABLE"
      ]
    },
    {
      "cell_type": "code",
      "execution_count": 47,
      "metadata": {
        "colab": {},
        "colab_type": "code",
        "id": "94Ps3gCY-s_1"
      },
      "outputs": [],
      "source": [
        "tom = ('Tom', 5, 3.75)\n",
        "jerry = ('Jerry', 3, 3.89)\n"
      ]
    },
    {
      "cell_type": "code",
      "execution_count": 48,
      "metadata": {
        "colab": {},
        "colab_type": "code",
        "id": "xmoGLdwk-5eh"
      },
      "outputs": [
        {
          "data": {
            "text/plain": [
              "('Tom', 5)"
            ]
          },
          "execution_count": 48,
          "metadata": {},
          "output_type": "execute_result"
        }
      ],
      "source": [
        "tom[0], tom[1]"
      ]
    },
    {
      "cell_type": "code",
      "execution_count": 49,
      "metadata": {
        "colab": {},
        "colab_type": "code",
        "id": "WEq9nqzu--N0"
      },
      "outputs": [
        {
          "ename": "TypeError",
          "evalue": "'tuple' object does not support item assignment",
          "output_type": "error",
          "traceback": [
            "\u001b[1;31m---------------------------------------------------------------------------\u001b[0m",
            "\u001b[1;31mTypeError\u001b[0m                                 Traceback (most recent call last)",
            "Cell \u001b[1;32mIn[49], line 1\u001b[0m\n\u001b[1;32m----> 1\u001b[0m tom[\u001b[38;5;241m1\u001b[39m] \u001b[38;5;241m=\u001b[39m \u001b[38;5;241m6\u001b[39m\n",
            "\u001b[1;31mTypeError\u001b[0m: 'tuple' object does not support item assignment"
          ]
        }
      ],
      "source": [
        "tom[1] = 6  # doesn't work, because tuples are IMMUTABLE"
      ]
    },
    {
      "cell_type": "code",
      "execution_count": 50,
      "metadata": {
        "colab": {},
        "colab_type": "code",
        "id": "1mRJSbIC_KmY"
      },
      "outputs": [
        {
          "data": {
            "text/plain": [
              "['Tom', 5, 3.75]"
            ]
          },
          "execution_count": 50,
          "metadata": {},
          "output_type": "execute_result"
        }
      ],
      "source": [
        "# convert to a list\n",
        "tom_list = list(tom)\n",
        "tom_list"
      ]
    },
    {
      "cell_type": "code",
      "execution_count": 51,
      "metadata": {
        "colab": {},
        "colab_type": "code",
        "id": "05qlR0Fj_QSt"
      },
      "outputs": [
        {
          "data": {
            "text/plain": [
              "['Tom', 6, 3.75]"
            ]
          },
          "execution_count": 51,
          "metadata": {},
          "output_type": "execute_result"
        }
      ],
      "source": [
        "# then we can change it, because lists are MUTABLE\n",
        "tom_list[1] = 6\n",
        "tom_list"
      ]
    },
    {
      "cell_type": "code",
      "execution_count": 52,
      "metadata": {
        "colab": {},
        "colab_type": "code",
        "id": "BoT_FW-e_XQM"
      },
      "outputs": [
        {
          "data": {
            "text/plain": [
              "('Tom', 6, 3.75)"
            ]
          },
          "execution_count": 52,
          "metadata": {},
          "output_type": "execute_result"
        }
      ],
      "source": [
        "# we can change it back to tuple\n",
        "tom = tuple(tom_list)\n",
        "tom"
      ]
    },
    {
      "cell_type": "markdown",
      "metadata": {
        "colab_type": "text",
        "id": "VVQ5jbty6c4f"
      },
      "source": [
        "## Strings are also List-like and IMMUTABLE"
      ]
    },
    {
      "cell_type": "code",
      "execution_count": 53,
      "metadata": {
        "colab": {},
        "colab_type": "code",
        "id": "rzCXjX7k_wby"
      },
      "outputs": [
        {
          "data": {
            "text/plain": [
              "'m'"
            ]
          },
          "execution_count": 53,
          "metadata": {},
          "output_type": "execute_result"
        }
      ],
      "source": [
        "name = 'Tom'\n",
        "name[2]"
      ]
    },
    {
      "cell_type": "code",
      "execution_count": 54,
      "metadata": {
        "colab": {},
        "colab_type": "code",
        "id": "PZ1NPQMhAJxR"
      },
      "outputs": [
        {
          "data": {
            "text/plain": [
              "3"
            ]
          },
          "execution_count": 54,
          "metadata": {},
          "output_type": "execute_result"
        }
      ],
      "source": [
        "len(name)"
      ]
    },
    {
      "cell_type": "markdown",
      "metadata": {
        "colab_type": "text",
        "id": "k_e0zb50oV_L"
      },
      "source": [
        "## Reference to list"
      ]
    },
    {
      "cell_type": "code",
      "execution_count": 55,
      "metadata": {
        "colab": {},
        "colab_type": "code",
        "id": "QddTa-L6A2ZQ"
      },
      "outputs": [],
      "source": [
        "# a number list\n",
        "outer_list = [1 ,2, 5.6, 100]\n",
        "inner_list = ['a', 'b', 'c']"
      ]
    },
    {
      "cell_type": "code",
      "execution_count": 56,
      "metadata": {
        "colab": {},
        "colab_type": "code",
        "id": "NRDchiPZBDXz"
      },
      "outputs": [
        {
          "data": {
            "text/plain": [
              "[1, ['a', 'b', 'c'], 5.6, 100]"
            ]
          },
          "execution_count": 56,
          "metadata": {},
          "output_type": "execute_result"
        }
      ],
      "source": [
        "outer_list[1] = inner_list     # index 1 in a_list holds a reference to inner_list\n",
        "outer_list"
      ]
    },
    {
      "cell_type": "code",
      "execution_count": 57,
      "metadata": {
        "colab": {},
        "colab_type": "code",
        "id": "ayZlOvN7BJeX"
      },
      "outputs": [
        {
          "data": {
            "text/plain": [
              "[1, ['a', 'b', 'c', 'd'], 5.6, 100]"
            ]
          },
          "execution_count": 57,
          "metadata": {},
          "output_type": "execute_result"
        }
      ],
      "source": [
        "inner_list.append('d')     # update inner_list affects outer_list\n",
        "outer_list"
      ]
    },
    {
      "cell_type": "markdown",
      "metadata": {
        "colab_type": "text",
        "id": "7Zzvm_Zq-Kny"
      },
      "source": [
        "## Lists are passed into functions by reference value"
      ]
    },
    {
      "cell_type": "code",
      "execution_count": 58,
      "metadata": {
        "colab": {},
        "colab_type": "code",
        "id": "uslPzCgmB5uh"
      },
      "outputs": [
        {
          "data": {
            "text/plain": [
              "[1, 2, 3, 'extra']"
            ]
          },
          "execution_count": 58,
          "metadata": {},
          "output_type": "execute_result"
        }
      ],
      "source": [
        "def append_to_list(a_list):\n",
        "    a_list.append('extra')\n",
        "    \n",
        "my_list = [1, 2, 3]\n",
        "append_to_list(my_list)\n",
        "my_list"
      ]
    },
    {
      "cell_type": "markdown",
      "metadata": {
        "colab_type": "text",
        "id": "DTy_NhAIB9Dg"
      },
      "source": [
        "##List comprehension"
      ]
    },
    {
      "cell_type": "code",
      "execution_count": 59,
      "metadata": {
        "colab": {},
        "colab_type": "code",
        "id": "RdaTRv_k6fgt"
      },
      "outputs": [
        {
          "name": "stdout",
          "output_type": "stream",
          "text": [
            "[1, 4, 9, 16, 25]\n"
          ]
        }
      ],
      "source": [
        "nums = [1, 2, 3, 4, 5]\n",
        "squares = [ n*n for n in nums ]\n",
        "print(squares)"
      ]
    },
    {
      "cell_type": "code",
      "execution_count": 60,
      "metadata": {
        "colab": {},
        "colab_type": "code",
        "id": "_xlkjNT4Ec5r"
      },
      "outputs": [
        {
          "name": "stdout",
          "output_type": "stream",
          "text": [
            "[5, 3, 7, 1, 9]\n"
          ]
        }
      ],
      "source": [
        "nums = [4, 5, 3, 6, 7, 2, 1, 9]\n",
        "odds = [ n for n in nums if n % 2 == 1]\n",
        "print(odds)"
      ]
    },
    {
      "cell_type": "code",
      "execution_count": 64,
      "metadata": {
        "colab": {},
        "colab_type": "code",
        "id": "QxOoFKZlE554"
      },
      "outputs": [
        {
          "data": {
            "text/plain": [
              "['Imagination', 'is', 'more', 'important', 'than', 'knowledge']"
            ]
          },
          "execution_count": 64,
          "metadata": {},
          "output_type": "execute_result"
        }
      ],
      "source": [
        "quotes = \"Imagination is more important than knowledge\"\n",
        "tokens = quotes.split()\n",
        "tokens"
      ]
    },
    {
      "cell_type": "code",
      "execution_count": 62,
      "metadata": {
        "colab": {},
        "colab_type": "code",
        "id": "8p1q9e0gFRt5"
      },
      "outputs": [
        {
          "data": {
            "text/plain": [
              "[11, 2, 4, 9, 4, 9]"
            ]
          },
          "execution_count": 62,
          "metadata": {},
          "output_type": "execute_result"
        }
      ],
      "source": [
        "lens = [ len(tk) for tk in quotes.split() ]\n",
        "lens"
      ]
    },
    {
      "cell_type": "code",
      "execution_count": 63,
      "metadata": {
        "colab": {},
        "colab_type": "code",
        "id": "y4pYHU26FbUn"
      },
      "outputs": [
        {
          "data": {
            "text/plain": [
              "[('Imagination', 11),\n",
              " ('is', 2),\n",
              " ('more', 4),\n",
              " ('important', 9),\n",
              " ('than', 4),\n",
              " ('knowledge', 9)]"
            ]
          },
          "execution_count": 63,
          "metadata": {},
          "output_type": "execute_result"
        }
      ],
      "source": [
        "token_lens = [ (tk, len(tk)) for tk in quotes.split() ]\n",
        "token_lens"
      ]
    },
    {
      "cell_type": "markdown",
      "metadata": {
        "colab_type": "text",
        "id": "vOb-Wp-yGD6M"
      },
      "source": [
        "## Need help? dir(list) or help(list)"
      ]
    },
    {
      "cell_type": "code",
      "execution_count": 65,
      "metadata": {
        "colab": {},
        "colab_type": "code",
        "id": "8O5C6MJPGHz6"
      },
      "outputs": [
        {
          "data": {
            "text/plain": [
              "['__add__',\n",
              " '__class__',\n",
              " '__class_getitem__',\n",
              " '__contains__',\n",
              " '__delattr__',\n",
              " '__delitem__',\n",
              " '__dir__',\n",
              " '__doc__',\n",
              " '__eq__',\n",
              " '__format__',\n",
              " '__ge__',\n",
              " '__getattribute__',\n",
              " '__getitem__',\n",
              " '__gt__',\n",
              " '__hash__',\n",
              " '__iadd__',\n",
              " '__imul__',\n",
              " '__init__',\n",
              " '__init_subclass__',\n",
              " '__iter__',\n",
              " '__le__',\n",
              " '__len__',\n",
              " '__lt__',\n",
              " '__mul__',\n",
              " '__ne__',\n",
              " '__new__',\n",
              " '__reduce__',\n",
              " '__reduce_ex__',\n",
              " '__repr__',\n",
              " '__reversed__',\n",
              " '__rmul__',\n",
              " '__setattr__',\n",
              " '__setitem__',\n",
              " '__sizeof__',\n",
              " '__str__',\n",
              " '__subclasshook__',\n",
              " 'append',\n",
              " 'clear',\n",
              " 'copy',\n",
              " 'count',\n",
              " 'extend',\n",
              " 'index',\n",
              " 'insert',\n",
              " 'pop',\n",
              " 'remove',\n",
              " 'reverse',\n",
              " 'sort']"
            ]
          },
          "execution_count": 65,
          "metadata": {},
          "output_type": "execute_result"
        }
      ],
      "source": [
        "dir(list)"
      ]
    },
    {
      "cell_type": "markdown",
      "metadata": {
        "colab_type": "text",
        "id": "FiaO01INAb3V"
      },
      "source": [
        "# SETS\n",
        "\n",
        "A Set is collection, unordered, iterable, mutable, no duplicate elements. \n",
        "Think of sets in math."
      ]
    },
    {
      "cell_type": "code",
      "execution_count": 66,
      "metadata": {
        "colab": {},
        "colab_type": "code",
        "id": "Pu4GQDgQB1NQ"
      },
      "outputs": [],
      "source": [
        "set_1 = set()\n",
        "set_2 = {2, 3, 4, 5, 3, 4, 3, 7}"
      ]
    },
    {
      "cell_type": "code",
      "execution_count": 67,
      "metadata": {
        "colab": {},
        "colab_type": "code",
        "id": "zwYZT2wNCI8_"
      },
      "outputs": [
        {
          "data": {
            "text/plain": [
              "(set, set())"
            ]
          },
          "execution_count": 67,
          "metadata": {},
          "output_type": "execute_result"
        }
      ],
      "source": [
        "type(set_1), set_1"
      ]
    },
    {
      "cell_type": "code",
      "execution_count": 0,
      "metadata": {
        "colab": {},
        "colab_type": "code",
        "id": "GmqE86w3B670"
      },
      "outputs": [],
      "source": [
        "type(set_2), set_2"
      ]
    },
    {
      "cell_type": "markdown",
      "metadata": {
        "colab_type": "text",
        "id": "KUlCE1XbCYTX"
      },
      "source": [
        "## Add to set"
      ]
    },
    {
      "cell_type": "code",
      "execution_count": 0,
      "metadata": {
        "colab": {},
        "colab_type": "code",
        "id": "X_y5_O_rCUTR"
      },
      "outputs": [],
      "source": [
        "set_1.add(7)\n",
        "set_1.add('dog')\n",
        "set_1.add('dog')\n",
        "set_1.add(3.1415926)\n",
        "set_1"
      ]
    },
    {
      "cell_type": "markdown",
      "metadata": {
        "colab_type": "text",
        "id": "ddmjc550Cwji"
      },
      "source": [
        "## Union of sets"
      ]
    },
    {
      "cell_type": "code",
      "execution_count": 0,
      "metadata": {
        "colab": {},
        "colab_type": "code",
        "id": "d7LSBbwHDAQ-"
      },
      "outputs": [],
      "source": [
        "set_1.union(set_2)"
      ]
    },
    {
      "cell_type": "code",
      "execution_count": 0,
      "metadata": {
        "colab": {},
        "colab_type": "code",
        "id": "osIBYeghDA-k"
      },
      "outputs": [],
      "source": [
        "set_1 | set_2"
      ]
    },
    {
      "cell_type": "markdown",
      "metadata": {
        "colab_type": "text",
        "id": "4iQqeWUVDIE4"
      },
      "source": [
        "## Intersect of sets"
      ]
    },
    {
      "cell_type": "code",
      "execution_count": 0,
      "metadata": {
        "colab": {},
        "colab_type": "code",
        "id": "YPl-1-q_DbIP"
      },
      "outputs": [],
      "source": [
        "set_1.intersection(set_2)"
      ]
    },
    {
      "cell_type": "code",
      "execution_count": 0,
      "metadata": {
        "colab": {},
        "colab_type": "code",
        "id": "1uI6_k7bDbMH"
      },
      "outputs": [],
      "source": [
        "set_2 & set_1"
      ]
    },
    {
      "cell_type": "markdown",
      "metadata": {
        "colab_type": "text",
        "id": "7pC9F9qEDi1X"
      },
      "source": [
        "## Difference of sets"
      ]
    },
    {
      "cell_type": "code",
      "execution_count": 0,
      "metadata": {
        "colab": {},
        "colab_type": "code",
        "id": "qW02WTLyDmvu"
      },
      "outputs": [],
      "source": [
        "set_2 - set_1"
      ]
    },
    {
      "cell_type": "code",
      "execution_count": 0,
      "metadata": {
        "colab": {},
        "colab_type": "code",
        "id": "_1NJlT1DDmzB"
      },
      "outputs": [],
      "source": [
        "set_1 - set_2"
      ]
    },
    {
      "cell_type": "code",
      "execution_count": 0,
      "metadata": {
        "colab": {},
        "colab_type": "code",
        "id": "3L6Sy0n-Dv6x"
      },
      "outputs": [],
      "source": [
        "set_1.difference(set_2)"
      ]
    },
    {
      "cell_type": "markdown",
      "metadata": {
        "colab_type": "text",
        "id": "2ggt6o4AFigW"
      },
      "source": [
        "## set <-> list"
      ]
    },
    {
      "cell_type": "code",
      "execution_count": 0,
      "metadata": {
        "colab": {},
        "colab_type": "code",
        "id": "W3dBl4DsFm-K"
      },
      "outputs": [],
      "source": [
        "list(set_1)"
      ]
    },
    {
      "cell_type": "code",
      "execution_count": 0,
      "metadata": {
        "colab": {},
        "colab_type": "code",
        "id": "TG59RMUyFtwp"
      },
      "outputs": [],
      "source": [
        "set([2, 3, 4, 2, 6, 7, 1, 5, 6])"
      ]
    },
    {
      "cell_type": "markdown",
      "metadata": {
        "colab_type": "text",
        "id": "Q8QU--j3ERD7"
      },
      "source": [
        "## Need help? dir(set) or help(set)"
      ]
    },
    {
      "cell_type": "code",
      "execution_count": 0,
      "metadata": {
        "colab": {},
        "colab_type": "code",
        "id": "dj1ezoAYE_3r"
      },
      "outputs": [],
      "source": [
        "help(set)"
      ]
    },
    {
      "cell_type": "markdown",
      "metadata": {
        "colab_type": "text",
        "id": "gV7YT_FfGj4K"
      },
      "source": [
        "# Dictionary (dict)\n",
        "\n",
        "Dictionary in Python is an unordered collection of data value pairs"
      ]
    },
    {
      "cell_type": "code",
      "execution_count": 0,
      "metadata": {
        "colab": {},
        "colab_type": "code",
        "id": "jm6PJX3ywcDI"
      },
      "outputs": [],
      "source": [
        "# empty dictionary\n",
        "d1 = {}  # d1 = dict()\n",
        "\n",
        "# add key-value pairs to the dictionary\n",
        "d1['a'] = 12\n",
        "d1['b'] = 3\n",
        "d1['c'] = 47\n",
        "d1['d'] = 18\n",
        "\n",
        "# show the dictionary\n",
        "d1"
      ]
    },
    {
      "cell_type": "code",
      "execution_count": 0,
      "metadata": {
        "colab": {},
        "colab_type": "code",
        "id": "dr-R17LVKgGW"
      },
      "outputs": [],
      "source": [
        "# access value by key\n",
        "print(d1['c'])"
      ]
    },
    {
      "cell_type": "code",
      "execution_count": 0,
      "metadata": {
        "colab": {},
        "colab_type": "code",
        "id": "GEV041DowtqT"
      },
      "outputs": [],
      "source": [
        "# all keys\n",
        "d1.keys()"
      ]
    },
    {
      "cell_type": "code",
      "execution_count": 0,
      "metadata": {
        "colab": {},
        "colab_type": "code",
        "id": "PLNsliYjxPF3"
      },
      "outputs": [],
      "source": [
        "# all values\n",
        "d1.values()"
      ]
    },
    {
      "cell_type": "code",
      "execution_count": 0,
      "metadata": {
        "colab": {},
        "colab_type": "code",
        "id": "GVFtWRrCxVJx"
      },
      "outputs": [],
      "source": [
        "for entry in d1.items():\n",
        "    print(entry)"
      ]
    },
    {
      "cell_type": "code",
      "execution_count": 0,
      "metadata": {
        "colab": {},
        "colab_type": "code",
        "id": "Dji2qB0uxczm"
      },
      "outputs": [],
      "source": [
        "for k, v in d1.items():\n",
        "    print('%s -> %s' % (str(k), str(v)))"
      ]
    },
    {
      "cell_type": "markdown",
      "metadata": {
        "colab_type": "text",
        "id": "FlT-YzvkaVrQ"
      },
      "source": [
        "## Merge two dictionaries\n",
        "update() method adds items to the dictionary if the key is not in the dictionary. If the key is in the dictionary, it updates the key with the new value."
      ]
    },
    {
      "cell_type": "code",
      "execution_count": 0,
      "metadata": {
        "colab": {},
        "colab_type": "code",
        "id": "XB7hTMsLadrh"
      },
      "outputs": [],
      "source": [
        "nfl_team_list_1 = {\n",
        "    'Georgia': 'Atlanta Falcons',\n",
        "    'New York': 'Buffalo Bills',\n",
        "    'New Jersey': 'New York Giants',\n",
        "    'Pennsylvania': 'Philadelphia Eagles'\n",
        "}\n",
        "nfl_team_list_2 = {\n",
        "    'Arizona': 'Arizona Cardinals',\n",
        "    'New York': 'Buffalo Bills',\n",
        "    'New Jersey': 'New York Jets',\n",
        "    'Pennsylvania': 'Pittsburgh Steelers',\n",
        "    'Illinois': 'Chicago Bears'\n",
        "}"
      ]
    },
    {
      "cell_type": "code",
      "execution_count": 0,
      "metadata": {
        "colab": {},
        "colab_type": "code",
        "id": "mXQ7SbA7I-tR"
      },
      "outputs": [],
      "source": [
        "nfl_team_list_1.update(nfl_team_list_2)\n",
        "nfl_team_list_1"
      ]
    },
    {
      "cell_type": "markdown",
      "metadata": {
        "colab_type": "text",
        "id": "1kPSFdoE9bUz"
      },
      "source": [
        "## Remove items from a dictionary"
      ]
    },
    {
      "cell_type": "code",
      "execution_count": 0,
      "metadata": {
        "colab": {},
        "colab_type": "code",
        "id": "0DP-VkuX9gbb"
      },
      "outputs": [],
      "source": [
        "# pop() removes an item with speficifed key and returns the value\n",
        "val = d1.pop('c')\n",
        "print(val)\n",
        "print(d1)"
      ]
    },
    {
      "cell_type": "code",
      "execution_count": 0,
      "metadata": {
        "colab": {},
        "colab_type": "code",
        "id": "gjiqArH59gfl"
      },
      "outputs": [],
      "source": [
        "# del\n",
        "car = {\n",
        "    'brand': 'Ford',\n",
        "    'model': 'Explorer',\n",
        "    'year': 2017,\n",
        "    'price': 20000\n",
        "}\n",
        "car"
      ]
    },
    {
      "cell_type": "code",
      "execution_count": 0,
      "metadata": {
        "colab": {},
        "colab_type": "code",
        "id": "W6XHJwqPZnRy"
      },
      "outputs": [],
      "source": [
        "# del keyword delete item by key\n",
        "del car['price']\n",
        "print(car)"
      ]
    },
    {
      "cell_type": "markdown",
      "metadata": {
        "colab_type": "text",
        "id": "IrVjRyN-xxyI"
      },
      "source": [
        "## Dictionary comprehension"
      ]
    },
    {
      "cell_type": "code",
      "execution_count": 0,
      "metadata": {
        "colab": {},
        "colab_type": "code",
        "id": "us-Ugq2tG0bX"
      },
      "outputs": [],
      "source": [
        "d1 = {'a': 12, 'b': 3, 'c': 47, 'd': 18}\n",
        "d1"
      ]
    },
    {
      "cell_type": "code",
      "execution_count": 0,
      "metadata": {
        "colab": {},
        "colab_type": "code",
        "id": "oLZIfgEIwEQG"
      },
      "outputs": [],
      "source": [
        "# inverting a dictionary\n",
        "d1_inverted = { v: k for k, v in d1.items() }\n",
        "d1_inverted"
      ]
    },
    {
      "cell_type": "code",
      "execution_count": 0,
      "metadata": {
        "colab": {},
        "colab_type": "code",
        "id": "X_Vv3Tz2zEJR"
      },
      "outputs": [],
      "source": [
        "# double all values in d1\n",
        "{ k: v*2 for k, v in d1.items() }"
      ]
    },
    {
      "cell_type": "markdown",
      "metadata": {
        "colab_type": "text",
        "id": "sn5dvptrwLD1"
      },
      "source": []
    },
    {
      "cell_type": "markdown",
      "metadata": {
        "colab_type": "text",
        "id": "5F6noeY4HiEV"
      },
      "source": [
        "# More Examples"
      ]
    },
    {
      "cell_type": "code",
      "execution_count": 0,
      "metadata": {
        "colab": {},
        "colab_type": "code",
        "id": "JGPD3X1vHiiJ"
      },
      "outputs": [],
      "source": [
        "state_list = [\n",
        "    {\n",
        "        'State': 'NJ',\n",
        "        'Capital': 'Trenton',\n",
        "        'Population': 9000000,\n",
        "        'Cities': ['Newark', 'Jersey City', 'Paterson']\n",
        "    },\n",
        "    {\n",
        "        'State': 'NY',\n",
        "        'Capital': 'Albany',\n",
        "        'Population': 20000000,\n",
        "        'Cities': ['New York', 'Buffalo', 'Rochester']\n",
        "    },\n",
        "    {\n",
        "        'State': 'PA',\n",
        "        'Capital': 'Harrisburg',\n",
        "        'Population': 13000000,\n",
        "        'Cities': ['Philadelphia', 'Pittsburgh', 'Allentown']\n",
        "    }      \n",
        "]"
      ]
    },
    {
      "cell_type": "code",
      "execution_count": 0,
      "metadata": {
        "colab": {},
        "colab_type": "code",
        "id": "iCLvUPBVvnK4"
      },
      "outputs": [],
      "source": [
        "state_list[2]['Cities']"
      ]
    },
    {
      "cell_type": "code",
      "execution_count": 0,
      "metadata": {
        "colab": {},
        "colab_type": "code",
        "id": "nA_UFVMyd_eE"
      },
      "outputs": [],
      "source": [
        "state_dict = {\n",
        "    'NY': {\n",
        "        'Capital': 'Albany',\n",
        "        'Population': 20000000,\n",
        "        'Cities': ['New York', 'Buffalo', 'Rochester']\n",
        "    },\n",
        "    'NJ': {\n",
        "        'Capital': 'Trenton',\n",
        "        'Population': 9000000,\n",
        "        'Cities': ['Newark', 'Jersey City', 'Paterson']\n",
        "    },\n",
        "    'PA': {\n",
        "        'Capital': 'Harrisburg',\n",
        "        'Population': 13000000,\n",
        "        'Cities': ['Philadelphia', 'Pittsburgh', 'Allentown']\n",
        "    }\n",
        "}"
      ]
    },
    {
      "cell_type": "code",
      "execution_count": 0,
      "metadata": {
        "colab": {},
        "colab_type": "code",
        "id": "22dXLkknu2Z1"
      },
      "outputs": [],
      "source": [
        "state_dict['NY']"
      ]
    },
    {
      "cell_type": "code",
      "execution_count": 0,
      "metadata": {
        "colab": {},
        "colab_type": "code",
        "id": "IcPZSwiIuknl"
      },
      "outputs": [],
      "source": [
        "state_dict['NY']['Cities'][0]"
      ]
    },
    {
      "cell_type": "markdown",
      "metadata": {
        "colab_type": "text",
        "id": "9qatZ3AfBi9y"
      },
      "source": [
        "### Practice Problems:"
      ]
    },
    {
      "cell_type": "markdown",
      "metadata": {
        "colab_type": "text",
        "id": "CVIq4W53BoWN"
      },
      "source": [
        "1. write a program that returns a list that contains only the elements that are common between two lists "
      ]
    },
    {
      "cell_type": "code",
      "execution_count": 0,
      "metadata": {
        "colab": {},
        "colab_type": "code",
        "id": "eIlZOJv4Bo-5"
      },
      "outputs": [],
      "source": [
        "list1 = [3, 4, 5, 6, 2, 1, 4, 9, 0, -2, 7]\n",
        "list2 = [-3, 8, 5, 6, 2, 1, -5, 9, 12, -2, 11]\n",
        "\n",
        "def common_list(l1, l2):\n",
        "    pass # your code here\n",
        "\n",
        "print(common_list(list1, list2))\n"
      ]
    },
    {
      "cell_type": "markdown",
      "metadata": {
        "colab_type": "text",
        "id": "0es0GNBgBqMp"
      },
      "source": [
        "2. Write a function that takes a list of numbers and returns the minimum and maximum numbers as a tuple. "
      ]
    },
    {
      "cell_type": "code",
      "execution_count": 0,
      "metadata": {
        "colab": {},
        "colab_type": "code",
        "id": "4WZlmsrUB8rc"
      },
      "outputs": [],
      "source": [
        "num_list = [3, 4, 5, 6, 2, 1, 4, 9, 0, -2, 7]\n",
        "\n",
        "def min_max(n_list):\n",
        "    pass # your code here\n",
        "\n",
        "print(min_max(num_list))\n"
      ]
    },
    {
      "cell_type": "markdown",
      "metadata": {
        "colab_type": "text",
        "id": "RKSqpr6OCCbN"
      },
      "source": [
        "3. Write a function to generate the first 10 Fibonacci numbers and return the numers in a list\n",
        "\n",
        "$F_n = F_{n-1} + F_{n-2}$\n",
        "\n",
        "$F_0 = 0$\n",
        "\n",
        "$F_1 = 1$"
      ]
    },
    {
      "cell_type": "code",
      "execution_count": 0,
      "metadata": {
        "colab": {},
        "colab_type": "code",
        "id": "1pgDfONKCLsS"
      },
      "outputs": [],
      "source": [
        "def fibonacci_numbers(up_to=10):\n",
        "    # first two fibonacci numbers\n",
        "    fibs = [0, 1]\n",
        "    \n",
        "    pass   # your code here\n",
        "\n",
        "print(fibonacci_numbers())"
      ]
    },
    {
      "cell_type": "markdown",
      "metadata": {
        "colab_type": "text",
        "id": "xCRuUv0tDRyd"
      },
      "source": [
        "4. Write a function to reverse a string ( Friday -> yadirF)"
      ]
    },
    {
      "cell_type": "code",
      "execution_count": 0,
      "metadata": {
        "colab": {},
        "colab_type": "code",
        "id": "Mnq5eH65DZEN"
      },
      "outputs": [],
      "source": [
        "def reverse_string(str):\n",
        "\n",
        "    pass    # your code here\n",
        "\n",
        "print(reverse_string('Friday'))"
      ]
    },
    {
      "cell_type": "markdown",
      "metadata": {
        "colab_type": "text",
        "id": "Z68RXcuVDbre"
      },
      "source": [
        "5. Write a function to reverse word order of a string containing multiple words. For example: Tom chases Jerry -> Jerry chases Tom"
      ]
    },
    {
      "cell_type": "code",
      "execution_count": 0,
      "metadata": {
        "colab": {},
        "colab_type": "code",
        "id": "9wSwjCerD8d9"
      },
      "outputs": [],
      "source": [
        "def reverse_words(str):\n",
        "\n",
        "    pass    # your code here\n",
        "\n",
        "str1 = 'Tom chases Jerry'\n",
        "print(reverse_words(str1))"
      ]
    },
    {
      "cell_type": "markdown",
      "metadata": {
        "colab_type": "text",
        "id": "62OQOTQs0k5K"
      },
      "source": [
        "6. Given a list of stock records, find out the total number of shares for each stock.\n",
        "\n",
        "Symbol, Price, Shares <br>\n",
        "IBM, 142.3, 50 <br>\n",
        "MSFT, 170.21, 100 <br>\n",
        "GOOG, 1469.32, 15 <br>\n",
        "IBM, 142.3, 20 <br>\n",
        "C, 74.78, 100 <br>\n",
        "CAT, 133.73, 80 <br>\n",
        "C, 74.78, 200 <br>\n",
        "GOOG, 1469.32, 7 <br>\n",
        "C, 74.78, 80 <br>"
      ]
    },
    {
      "cell_type": "code",
      "execution_count": 0,
      "metadata": {
        "colab": {},
        "colab_type": "code",
        "id": "5Syn67Lzzsl2"
      },
      "outputs": [],
      "source": []
    },
    {
      "cell_type": "markdown",
      "metadata": {
        "colab_type": "text",
        "id": "hi5vnh-p8J1Y"
      },
      "source": [
        "7. Given a list of stock buy/sell records, find out net values for each stock, and the total net value\n",
        "\n",
        "Symbol, Price, Shares, Buy/Sell <br>\n",
        "IBM, 142.3, 50, Buy <br>\n",
        "MSFT, 170.21, 100, Buy <br>\n",
        "GOOG, 1469.32, 15, Buy <br>\n",
        "IBM, 142.3, 20, Sell <br>\n",
        "C, 74.78, 100, Buy <br>\n",
        "CAT, 133.73, 80, Buy <br>\n",
        "C, 74.78, 200, Buy <br>\n",
        "GOOG, 1469.32, 7, Sell <br>\n",
        "C, 74.78, 80, Sell <br>"
      ]
    },
    {
      "cell_type": "code",
      "execution_count": 0,
      "metadata": {
        "colab": {},
        "colab_type": "code",
        "id": "IHOG8kbF8ucE"
      },
      "outputs": [],
      "source": []
    }
  ],
  "metadata": {
    "colab": {
      "collapsed_sections": [],
      "name": "1_list_set_dict.ipynb",
      "provenance": []
    },
    "kernelspec": {
      "display_name": "base",
      "language": "python",
      "name": "python3"
    },
    "language_info": {
      "codemirror_mode": {
        "name": "ipython",
        "version": 3
      },
      "file_extension": ".py",
      "mimetype": "text/x-python",
      "name": "python",
      "nbconvert_exporter": "python",
      "pygments_lexer": "ipython3",
      "version": "3.9.19"
    }
  },
  "nbformat": 4,
  "nbformat_minor": 0
}
