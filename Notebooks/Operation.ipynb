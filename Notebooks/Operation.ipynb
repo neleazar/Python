{
 "cells": [
  {
   "cell_type": "markdown",
   "id": "33991613",
   "metadata": {},
   "source": [
    "# Operations\n"
   ]
  },
  {
   "cell_type": "markdown",
   "id": "3a42f2e7",
   "metadata": {},
   "source": [
    "### Arithmatic Operations"
   ]
  },
  {
   "cell_type": "code",
   "execution_count": 9,
   "id": "f9c9db11",
   "metadata": {},
   "outputs": [
    {
     "name": "stdout",
     "output_type": "stream",
     "text": [
      "The sum of 9 and 2 is: 11\n",
      "11\n"
     ]
    }
   ],
   "source": [
    "# Addition\n",
    "a = 9\n",
    "b = 2\n",
    "addition = a + b\n",
    "# Print the result\n",
    "print(\"The sum of\", a, \"and\", b, \"is:\", addition)\n",
    "print(addition)"
   ]
  },
  {
   "cell_type": "code",
   "execution_count": 10,
   "id": "0acb225d",
   "metadata": {},
   "outputs": [
    {
     "name": "stdout",
     "output_type": "stream",
     "text": [
      "Subtraction: 7\n"
     ]
    }
   ],
   "source": [
    "# Subtraction\n",
    "subtraction = a - b\n",
    "# Print the result\n",
    "print(\"Subtraction:\", subtraction)"
   ]
  },
  {
   "cell_type": "code",
   "execution_count": 11,
   "id": "ac76b439",
   "metadata": {},
   "outputs": [
    {
     "name": "stdout",
     "output_type": "stream",
     "text": [
      "Division: 4.5\n"
     ]
    }
   ],
   "source": [
    "# Division\n",
    "division = a / b    \n",
    "# Print the result\n",
    "print(\"Division:\", division)"
   ]
  },
  {
   "cell_type": "code",
   "execution_count": 12,
   "id": "e409b0cb",
   "metadata": {},
   "outputs": [
    {
     "name": "stdout",
     "output_type": "stream",
     "text": [
      "Multiplication: 18\n"
     ]
    }
   ],
   "source": [
    "# Multiplication\n",
    "multiplication = a * b\n",
    "# Print the result\n",
    "print(\"Multiplication:\", multiplication)"
   ]
  },
  {
   "cell_type": "code",
   "execution_count": 13,
   "id": "21b48226",
   "metadata": {},
   "outputs": [
    {
     "name": "stdout",
     "output_type": "stream",
     "text": [
      "Floor Division: 4\n"
     ]
    }
   ],
   "source": [
    "# Floor Division\n",
    "floor_division = a // b\n",
    "# Print the result\n",
    "print(\"Floor Division:\", floor_division)"
   ]
  },
  {
   "cell_type": "code",
   "execution_count": 17,
   "id": "19f90b8c",
   "metadata": {},
   "outputs": [
    {
     "name": "stdout",
     "output_type": "stream",
     "text": [
      "Modulus: 1\n"
     ]
    }
   ],
   "source": [
    "# Modulus (REMAINDER)\n",
    "modulus = a % b\n",
    "# Print the result\n",
    "print(\"Modulus:\", modulus)"
   ]
  },
  {
   "cell_type": "code",
   "execution_count": 16,
   "id": "1d436d4c",
   "metadata": {},
   "outputs": [
    {
     "name": "stdout",
     "output_type": "stream",
     "text": [
      "Exponentiation: 81\n"
     ]
    }
   ],
   "source": [
    "# Exponentiation\n",
    "exponentiation = a ** b\n",
    "# Print the result\n",
    "print(\"Exponentiation:\", exponentiation)"
   ]
  },
  {
   "cell_type": "markdown",
   "id": "136c591b",
   "metadata": {},
   "source": [
    "### Comparison Operators"
   ]
  },
  {
   "cell_type": "code",
   "execution_count": 25,
   "id": "4417f06e",
   "metadata": {},
   "outputs": [
    {
     "name": "stdout",
     "output_type": "stream",
     "text": [
      "Comparison (==): False\n"
     ]
    }
   ],
   "source": [
    "# == Comparison\n",
    "comparison = a == b\n",
    "# Print the result\n",
    "print(\"Comparison (==):\", comparison)"
   ]
  },
  {
   "cell_type": "code",
   "execution_count": 33,
   "id": "336ef13d",
   "metadata": {},
   "outputs": [
    {
     "name": "stdout",
     "output_type": "stream",
     "text": [
      "Hello == hello : False\n",
      "Comparison of strings (case-insensitive): True\n"
     ]
    }
   ],
   "source": [
    "# Comparison\n",
    "str1 = \"Hello\"\n",
    "str2 = \"hello\"\n",
    "# Comparison\n",
    "print(str1, \"==\", str2, \":\", str1 == str2)\n",
    "# Case-insensitive comparison\n",
    "comparison_str = str1.lower() == str2.lower()\n",
    "# Print the result\n",
    "print(\"Comparison of strings (case-insensitive):\", comparison_str)"
   ]
  },
  {
   "cell_type": "code",
   "execution_count": 26,
   "id": "d3b08622",
   "metadata": {},
   "outputs": [
    {
     "name": "stdout",
     "output_type": "stream",
     "text": [
      "Comparison (<): False\n"
     ]
    }
   ],
   "source": [
    "# < Comparison\n",
    "comparison_less_than = a < b\n",
    "# Print the result\n",
    "print(\"Comparison (<):\", comparison_less_than)  "
   ]
  },
  {
   "cell_type": "code",
   "execution_count": 27,
   "id": "a713427b",
   "metadata": {},
   "outputs": [
    {
     "name": "stdout",
     "output_type": "stream",
     "text": [
      "Comparison (>): True\n"
     ]
    }
   ],
   "source": [
    "# >\n",
    "comparison_greater_than = a > b\n",
    "# Print the result \n",
    "print(\"Comparison (>):\", comparison_greater_than)"
   ]
  },
  {
   "cell_type": "code",
   "execution_count": 28,
   "id": "bab0bbf9",
   "metadata": {},
   "outputs": [
    {
     "name": "stdout",
     "output_type": "stream",
     "text": [
      "Comparison (!=): True\n"
     ]
    }
   ],
   "source": [
    "# not equal to (!=)\n",
    "comparison_not_equal = a != b\n",
    "# Print the result\n",
    "print(\"Comparison (!=):\", comparison_not_equal)"
   ]
  },
  {
   "cell_type": "code",
   "execution_count": 29,
   "id": "912945a5",
   "metadata": {},
   "outputs": [
    {
     "name": "stdout",
     "output_type": "stream",
     "text": [
      "Comparison (<=): False\n"
     ]
    }
   ],
   "source": [
    "# <= Comparison\n",
    "comparison_less_than_or_equal = a <= b \n",
    "# Print the result\n",
    "print(\"Comparison (<=):\", comparison_less_than_or_equal)"
   ]
  },
  {
   "cell_type": "code",
   "execution_count": 30,
   "id": "521884ab",
   "metadata": {},
   "outputs": [
    {
     "name": "stdout",
     "output_type": "stream",
     "text": [
      "Comparison (>=): True\n"
     ]
    }
   ],
   "source": [
    "# >= Comparison\n",
    "comparison_greater_than_or_equal = a >= b\n",
    "# Print the result\n",
    "print(\"Comparison (>=):\", comparison_greater_than_or_equal)"
   ]
  },
  {
   "cell_type": "markdown",
   "id": "c06045be",
   "metadata": {},
   "source": [
    "### Logical Operator"
   ]
  },
  {
   "cell_type": "code",
   "execution_count": 31,
   "id": "ebf20430",
   "metadata": {},
   "outputs": [
    {
     "name": "stdout",
     "output_type": "stream",
     "text": [
      "Logical AND: True\n"
     ]
    }
   ],
   "source": [
    "# Logical AND\n",
    "logical_and = (a > 5) and (b < 5)\n",
    "# Print the result\n",
    "print(\"Logical AND:\", logical_and)"
   ]
  },
  {
   "cell_type": "code",
   "execution_count": 35,
   "id": "ca7fd5f6",
   "metadata": {},
   "outputs": [
    {
     "name": "stdout",
     "output_type": "stream",
     "text": [
      "Logical OR: True\n"
     ]
    }
   ],
   "source": [
    "# Logical OR\n",
    "logical_or = (a > 5) or (b < 50)\n",
    "# Print the result\n",
    "print(\"Logical OR:\", logical_or)"
   ]
  },
  {
   "cell_type": "code",
   "execution_count": 36,
   "id": "bc59b2ed",
   "metadata": {},
   "outputs": [
    {
     "name": "stdout",
     "output_type": "stream",
     "text": [
      "Logical NOT: True\n"
     ]
    }
   ],
   "source": [
    "# Not\n",
    "logical_not = not (a < 5)\n",
    "# Print the result\n",
    "print(\"Logical NOT:\", logical_not)\n"
   ]
  },
  {
   "cell_type": "code",
   "execution_count": 38,
   "id": "6b3b01f4",
   "metadata": {},
   "outputs": [
    {
     "data": {
      "text/plain": [
       "True"
      ]
     },
     "execution_count": 38,
     "metadata": {},
     "output_type": "execute_result"
    }
   ],
   "source": [
    "x = False\n",
    "not x"
   ]
  },
  {
   "cell_type": "code",
   "execution_count": 43,
   "id": "61d8a401",
   "metadata": {},
   "outputs": [
    {
     "name": "stdout",
     "output_type": "stream",
     "text": [
      "Result: 7\n"
     ]
    }
   ],
   "source": [
    "# Simple Calulator\n",
    "first_number = int(input(\"Enter first number: \"))\n",
    "second_number = int(input(\"Enter second number: \"))\n",
    "operation = input(\"Enter operation (+, -, *, /, //, %, **): \")\n",
    "if operation == '+':\n",
    "    result = first_number + second_number\n",
    "    print(\"Result:\", result)\n",
    "elif operation == '-':\n",
    "    result = first_number - second_number\n",
    "    print(\"Result:\", result)\n",
    "elif operation == '*':\n",
    "    result = first_number * second_number\n",
    "    print(\"Result:\", result)\n",
    "elif operation == '/':\n",
    "    if second_number != 0:\n",
    "        result = first_number / second_number\n",
    "        print(\"Result:\", result)\n",
    "    else:\n",
    "        result = \"Error: Division by zero\""
   ]
  }
 ],
 "metadata": {
  "kernelspec": {
   "display_name": "base",
   "language": "python",
   "name": "python3"
  },
  "language_info": {
   "codemirror_mode": {
    "name": "ipython",
    "version": 3
   },
   "file_extension": ".py",
   "mimetype": "text/x-python",
   "name": "python",
   "nbconvert_exporter": "python",
   "pygments_lexer": "ipython3",
   "version": "3.9.19"
  }
 },
 "nbformat": 4,
 "nbformat_minor": 5
}
