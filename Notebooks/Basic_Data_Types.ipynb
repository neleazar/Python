{
 "cells": [
  {
   "cell_type": "markdown",
   "id": "fee43874",
   "metadata": {},
   "source": [
    "# Basic Data Types\n",
    "- Data types are the classfication of data, which tell the copiler how the programmer intend to use the data.\n",
    "- They determine the types of the operations that can be performed on the data,the values that data can be take and the amount of memory needed to stor the data."
   ]
  },
  {
   "cell_type": "markdown",
   "id": "da1c80ad",
   "metadata": {},
   "source": [
    "### Integers"
   ]
  },
  {
   "cell_type": "code",
   "execution_count": 1,
   "id": "1ba87392",
   "metadata": {},
   "outputs": [
    {
     "data": {
      "text/plain": [
       "int"
      ]
     },
     "execution_count": 1,
     "metadata": {},
     "output_type": "execute_result"
    }
   ],
   "source": [
    "age = 30\n",
    "type(age)"
   ]
  },
  {
   "cell_type": "markdown",
   "id": "5a275cb3",
   "metadata": {},
   "source": [
    "### Float"
   ]
  },
  {
   "cell_type": "code",
   "execution_count": 2,
   "id": "00d6ff18",
   "metadata": {},
   "outputs": [
    {
     "data": {
      "text/plain": [
       "float"
      ]
     },
     "execution_count": 2,
     "metadata": {},
     "output_type": "execute_result"
    }
   ],
   "source": [
    "height = 5.9\n",
    "type(height)"
   ]
  },
  {
   "cell_type": "markdown",
   "id": "121a59c9",
   "metadata": {},
   "source": [
    "### String"
   ]
  },
  {
   "cell_type": "code",
   "execution_count": 4,
   "id": "05dff4e2",
   "metadata": {},
   "outputs": [
    {
     "data": {
      "text/plain": [
       "str"
      ]
     },
     "execution_count": 4,
     "metadata": {},
     "output_type": "execute_result"
    }
   ],
   "source": [
    "name = \"Eleazar\"\n",
    "type(name)"
   ]
  },
  {
   "cell_type": "markdown",
   "id": "c3a69c89",
   "metadata": {},
   "source": [
    "### Bool"
   ]
  },
  {
   "cell_type": "code",
   "execution_count": 6,
   "id": "2cb69e14",
   "metadata": {},
   "outputs": [
    {
     "data": {
      "text/plain": [
       "bool"
      ]
     },
     "execution_count": 6,
     "metadata": {},
     "output_type": "execute_result"
    }
   ],
   "source": [
    "is_true = True\n",
    "type(is_true)"
   ]
  },
  {
   "cell_type": "code",
   "execution_count": 7,
   "id": "456cdc35",
   "metadata": {},
   "outputs": [
    {
     "data": {
      "text/plain": [
       "bool"
      ]
     },
     "execution_count": 7,
     "metadata": {},
     "output_type": "execute_result"
    }
   ],
   "source": [
    "a = 10\n",
    "b = 10\n",
    "type(a == b)"
   ]
  },
  {
   "cell_type": "code",
   "execution_count": 9,
   "id": "b4b50cee",
   "metadata": {},
   "outputs": [
    {
     "name": "stdout",
     "output_type": "stream",
     "text": [
      "Hello5\n"
     ]
    }
   ],
   "source": [
    "result = \"Hello\" + str(5)\n",
    "print(result)"
   ]
  },
  {
   "cell_type": "code",
   "execution_count": null,
   "id": "267d0a25",
   "metadata": {},
   "outputs": [],
   "source": []
  }
 ],
 "metadata": {
  "kernelspec": {
   "display_name": "base",
   "language": "python",
   "name": "python3"
  },
  "language_info": {
   "codemirror_mode": {
    "name": "ipython",
    "version": 3
   },
   "file_extension": ".py",
   "mimetype": "text/x-python",
   "name": "python",
   "nbconvert_exporter": "python",
   "pygments_lexer": "ipython3",
   "version": "3.9.19"
  }
 },
 "nbformat": 4,
 "nbformat_minor": 5
}
