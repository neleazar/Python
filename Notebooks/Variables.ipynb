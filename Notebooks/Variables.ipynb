{
 "cells": [
  {
   "cell_type": "markdown",
   "id": "c0075ccc",
   "metadata": {},
   "source": [
    "# Varibales"
   ]
  },
  {
   "cell_type": "markdown",
   "id": "eed10a5e",
   "metadata": {},
   "source": [
    "### Declaring and Assigning Varibales"
   ]
  },
  {
   "cell_type": "code",
   "execution_count": 7,
   "id": "317b84ad",
   "metadata": {},
   "outputs": [],
   "source": [
    "age = 30\n",
    "name = \"Eleazar\"\n",
    "height = 5.7\n",
    "is_student = False"
   ]
  },
  {
   "cell_type": "markdown",
   "id": "35f99bbf",
   "metadata": {},
   "source": [
    "### Print the variables"
   ]
  },
  {
   "cell_type": "markdown",
   "id": "63c1e991",
   "metadata": {},
   "source": []
  },
  {
   "cell_type": "code",
   "execution_count": 8,
   "id": "5c055fef",
   "metadata": {},
   "outputs": [
    {
     "name": "stdout",
     "output_type": "stream",
     "text": [
      "age: 30\n",
      "name: Eleazar\n",
      "height: 5.7\n",
      "is_student: False\n"
     ]
    }
   ],
   "source": [
    "print(\"age:\", age)\n",
    "print(\"name:\", name)\n",
    "print(\"height:\", height)\n",
    "print(\"is_student:\", is_student)"
   ]
  },
  {
   "cell_type": "markdown",
   "id": "856edc52",
   "metadata": {},
   "source": [
    "### Naming \n",
    "- Variable name should be desciptive\n",
    "- They must be start with a letter or with _ and it can contains letters, numbers and underscores\n",
    "- Varibles names are case sensitive"
   ]
  },
  {
   "cell_type": "markdown",
   "id": "30a582e5",
   "metadata": {},
   "source": [
    "### Invalid Varibale Names"
   ]
  },
  {
   "cell_type": "code",
   "execution_count": 9,
   "id": "1d95d3a1",
   "metadata": {},
   "outputs": [
    {
     "ename": "SyntaxError",
     "evalue": "invalid syntax (1784534145.py, line 1)",
     "output_type": "error",
     "traceback": [
      "\u001b[1;36m  Cell \u001b[1;32mIn[9], line 1\u001b[1;36m\u001b[0m\n\u001b[1;33m    1age = 31  # Correcting the variable name to 'age'\u001b[0m\n\u001b[1;37m     ^\u001b[0m\n\u001b[1;31mSyntaxError\u001b[0m\u001b[1;31m:\u001b[0m invalid syntax\n"
     ]
    }
   ],
   "source": [
    "1age = 31  # Correcting the variable name to 'age'"
   ]
  },
  {
   "cell_type": "code",
   "execution_count": 10,
   "id": "7121b71f",
   "metadata": {},
   "outputs": [
    {
     "ename": "SyntaxError",
     "evalue": "invalid syntax (969222395.py, line 1)",
     "output_type": "error",
     "traceback": [
      "\u001b[1;36m  Cell \u001b[1;32mIn[10], line 1\u001b[1;36m\u001b[0m\n\u001b[1;33m    @name= \"Eleazar\"  # This is not valid syntax in Python\u001b[0m\n\u001b[1;37m         ^\u001b[0m\n\u001b[1;31mSyntaxError\u001b[0m\u001b[1;31m:\u001b[0m invalid syntax\n"
     ]
    }
   ],
   "source": [
    "@name= \"Eleazar\"  # This is not valid syntax in Python"
   ]
  },
  {
   "cell_type": "code",
   "execution_count": null,
   "id": "d9090bd6",
   "metadata": {},
   "outputs": [],
   "source": []
  }
 ],
 "metadata": {
  "kernelspec": {
   "display_name": "base",
   "language": "python",
   "name": "python3"
  },
  "language_info": {
   "codemirror_mode": {
    "name": "ipython",
    "version": 3
   },
   "file_extension": ".py",
   "mimetype": "text/x-python",
   "name": "python",
   "nbconvert_exporter": "python",
   "pygments_lexer": "ipython3",
   "version": "3.9.19"
  }
 },
 "nbformat": 4,
 "nbformat_minor": 5
}
